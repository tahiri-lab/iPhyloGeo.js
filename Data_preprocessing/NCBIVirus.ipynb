{
 "cells": [
  {
   "cell_type": "code",
   "execution_count": 2,
   "id": "0dd20b70-bf1a-4d43-a599-760922b63677",
   "metadata": {},
   "outputs": [],
   "source": [
    "import pandas as pd\n",
    "import numpy as np"
   ]
  },
  {
   "cell_type": "code",
   "execution_count": null,
   "id": "c966cb8d-547b-4f53-884b-921121bef1d4",
   "metadata": {},
   "outputs": [],
   "source": []
  },
  {
   "cell_type": "code",
   "execution_count": 1,
   "id": "befca532-9e6d-4325-bd14-3e8092db6dfe",
   "metadata": {},
   "outputs": [],
   "source": [
    "countries_inCovlineage = ['Colombia', 'Denmark', 'Lebanon', 'Ecuador', 'Republic_of_the_Congo', 'Netherlands', 'Spain', 'Slovenia', \n",
    "                          'Papua_New_Guinea', 'Slovakia', 'Pakistan', 'Burkina_Faso', 'Romania', 'Greece', 'Switzerland', 'Equatorial_Guinea',\n",
    "                          'Saudi_Arabia', 'Iraq', 'Oman', 'Aruba', 'Kenya', 'Ghana', 'Chile', 'Portugal', 'Uruguay', 'Qatar', 'Macedonia', \n",
    "                          'New_Zealand', 'Luxembourg', 'Sierra_Leone', 'Brazil', 'Bulgaria', 'Thailand', 'Italy', 'Iran', 'Saint_Vincent_and_the_Grenadines', \n",
    "                          'France', 'Tunisia', 'Maldives', 'Zambia', 'Czech_Republic', 'Gambia', 'Taiwan', 'Vietnam', 'Malaysia', 'Peru', 'Sweden', 'Rwanda', \n",
    "                          'Hong_Kong', 'Poland', 'Morocco', 'Mozambique', 'Laos', 'Estonia', 'India', 'Suriname', 'Japan', 'Philippines', 'Trinidad_and_Tobago', \n",
    "                          'Fiji', 'Lithuania', 'Latvia', 'Austria', 'Kuwait', 'Mauritius', 'Kazakhstan', 'Martinique', 'Indonesia', \"Cote_d'Ivoire\", \n",
    "                          'French_Guiana', 'Bahrain', 'Turkey', 'South_Korea', 'Panama', 'Egypt', 'Ireland', 'Senegal', 'China', 'Costa_Rica', 'Canada', \n",
    "                          'Uganda', 'United Kingdom', 'United_Arab_Emirates', 'Sri_Lanka', 'Russia', 'Bonaire', 'Singapore', 'Nigeria', 'Angola', 'Finland', \n",
    "                          'Mexico', 'Gibraltar', 'Australia', 'Mayotte', 'Reunion', 'Brunei', 'Democratic Republic of the Congo', 'Botswana', 'Belgium', 'Bangladesh', \n",
    "                          'Canary_Islands', 'Germany', 'Norway', 'Iceland', 'Curaçao', 'Jordan', 'Nicaragua', \n",
    "                          'Hungary', 'Israel', 'Argentina', 'Croatia', 'Solomon_Islands', 'United States of America', 'South_Africa']"
   ]
  },
  {
   "cell_type": "code",
   "execution_count": 3,
   "id": "9abeec5d-f192-474e-997b-dec1f0003514",
   "metadata": {},
   "outputs": [],
   "source": [
    "countries_inOwid = ['Djibouti','Gambia','Egypt','Kenya','Seychelles','Nigeria','South Africa','Tunisia',\n",
    "                     'Bahrain','Japan','Lebanon','Thailand','Vietnam','Iran','India','Bangladesh','Hong Kong',\n",
    "                     'Denmark','France','Germany','Iceland','Slovakia','Switzerland','Italy','Estonia','Poland','United Kingdom',\n",
    "                     'Mexico','United States','Canada',\n",
    "                     'New Zealand',\n",
    "                     'Brazil','Chile','Colombia','Paraguay']"
   ]
  },
  {
   "cell_type": "code",
   "execution_count": 4,
   "id": "b137fdbe-8afa-4a66-a706-a52a4f47344a",
   "metadata": {},
   "outputs": [
    {
     "name": "stdout",
     "output_type": "stream",
     "text": [
      "28\n",
      "['Gambia', 'Egypt', 'Kenya', 'Nigeria', 'Tunisia', 'Bahrain', 'Japan', 'Lebanon', 'Thailand', 'Vietnam', 'Iran', 'India', 'Bangladesh', 'Denmark', 'France', 'Germany', 'Iceland', 'Slovakia', 'Switzerland', 'Italy', 'Estonia', 'Poland', 'United Kingdom', 'Mexico', 'Canada', 'Brazil', 'Chile', 'Colombia']\n"
     ]
    }
   ],
   "source": [
    "country_forSeq = [value for value in countries_inOwid if value in countries_inCovlineage] \n",
    "print(len(country_forSeq))\n",
    "print(country_forSeq)"
   ]
  },
  {
   "cell_type": "markdown",
   "id": "9e36ea12-2601-4bbb-b516-5edae9520e2e",
   "metadata": {},
   "source": [
    "### Data resource: https://www.ncbi.nlm.nih.gov/labs/virus/vssi/#/\n",
    "\n",
    "#### Parameters Setting\n",
    "- Collection Date: `From Jan 1,2021 To Dex 31, 2023`\n",
    "- Geographic Region: the 28 countries in list `country_forSeq`\n",
    "- Nucleotide Completeness: `complete`\n"
   ]
  },
  {
   "cell_type": "code",
   "execution_count": null,
   "id": "d1ab412a-6747-4ede-8b0a-47f16bebc07e",
   "metadata": {},
   "outputs": [],
   "source": []
  }
 ],
 "metadata": {
  "kernelspec": {
   "display_name": "Python 3",
   "language": "python",
   "name": "python3"
  },
  "language_info": {
   "codemirror_mode": {
    "name": "ipython",
    "version": 3
   },
   "file_extension": ".py",
   "mimetype": "text/x-python",
   "name": "python",
   "nbconvert_exporter": "python",
   "pygments_lexer": "ipython3",
   "version": "3.8.8"
  }
 },
 "nbformat": 4,
 "nbformat_minor": 5
}
