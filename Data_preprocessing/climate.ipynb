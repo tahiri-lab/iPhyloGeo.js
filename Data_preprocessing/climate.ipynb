{
 "cells": [
  {
   "cell_type": "markdown",
   "id": "949c056b-3abf-4f2e-ae1a-727c314a201f",
   "metadata": {},
   "source": [
    "### Data Source: https://power.larc.nasa.gov/beta/data-access-viewer/  \n",
    "### NASA/POWER CERES/MERRA2 Native Resolution Daily Data "
   ]
  },
  {
   "cell_type": "markdown",
   "id": "d0e327ba-dc93-4931-8ccb-df2adbec317b",
   "metadata": {},
   "source": [
    "- Geographic Region: the 27 countries in the dataset of NCBI Virus:\n",
    "        'Gambia': Latitude  13.4479   Longitude -15.3796\n",
    "        'Egypt':  Latitude  26.5186   Longitude 29.8595\n",
    "        'Kenya':  Latitude  0.5135   Longitude 37.8897\n",
    "        'Nigeria': Latitude  9.598   Longitude 8.1167\n",
    "        'Tunisia': Latitude  34.1077   Longitude 9.5811 \n",
    "        'Bahrain': Latitude  26.0514   Longitude 50.5651 \n",
    "        'Japan':   Latitude  36.8496   Longitude 139.2935\n",
    "        'Lebanon': Latitude  33.9103   Longitude 35.8852 \n",
    "        'Thailand': Latitude  15.0529   Longitude 101.0232 \n",
    "        'Vietnam':  Latitude  16.0093   Longitude 107.8333 \n",
    "        'Iran':     Latitude  32.7923   Longitude 54.242 \n",
    "        'India':    Latitude  23.0952   Longitude 79.2236 \n",
    "        'Bangladesh':  Latitude  23.7898   Longitude 90.2885\n",
    "        'Denmark':   Latitude  55.9193   Longitude 10.0539\n",
    "        'France':    Latitude  46.5225   Longitude 2.4626 \n",
    "        'Germany':   Latitude  51.0616   Longitude 10.3813\n",
    "        'Switzerland': Latitude  46.7776   Longitude 8.2670\n",
    "        'Italy':     Latitude  42.7362   Longitude 12.8553\n",
    "        'Estonia':  Latitude  58.633   Longitude 25.4662\n",
    "        'Poland':   Latitude  52.1356   Longitude 19.3688\n",
    "        'United Kingdom':  Latitude  53.3618   Longitude -2.0135 \n",
    "        'Mexico':   Latitude  23.7765   Longitude -102.5703\n",
    "        'Canada':   Latitude  59.8442   Longitude -113.291\n",
    "        'Brazil':  Latitude  -10.943   Longitude -52.9416\n",
    "        'Chile':   Latitude  -31.8605   Longitude -71.2668\n",
    "        'Colombia':  Location: Latitude  3.7763   Longitude -73.0318 \n",
    "        USA-AL:  Latitude  32.8121   Longitude -87.0161\n",
    "        USA-CT:  Latitude  41.583   Longitude -72.7575 \n",
    "        USA-ID:  Latitude  44.3372   Longitude -114.6265 \n",
    "        USA-SD:  Latitude  44.3372   Longitude -100.4102\n",
    "        USA-UT:  Latitude  39.3155   Longitude -111.7057\n",
    "        \n",
    " - Collection Date: `From Jan 1,2021 To Dex 31, 2023`\n",
    " - Elevation from MERRA-2: Average for 0.5 x 0.625 degree lat/lon region = 26.62 meters\n",
    " - The value for missing source data that cannot be computed or is outside of the sources availability range: -999 \n",
    " - Parameter(s): \n",
    "    - ALLSKY_SFC_SW_DWN     CERES SYN1deg All Sky Surface Shortwave Downward Irradiance (kW-hr/m^2/day) \n",
    "    - WS2M                  MERRA-2 Wind Speed at 2 Meters (m/s) \n",
    "    - PRECTOTCORR           MERRA-2 Precipitation Corrected (mm/day) \n",
    "    - RH2M                  MERRA-2 Relative Humidity at 2 Meters (%) \n",
    "    - QV2M                  MERRA-2 Specific Humidity at 2 Meters (g/kg) \n",
    "    - T2M_RANGE             MERRA-2 Temperature at 2 Meters Range (C) \n",
    "    - PS                    MERRA-2 Surface Pressure (kPa) \n",
    "    - WS50M_RANGE           MERRA-2 Wind Speed at 50 Meters Range (m/s) \n",
    "    - WS10M_RANGE           MERRA-2 Wind Speed at 10 Meters Range (m/s) \n"
   ]
  },
  {
   "cell_type": "code",
   "execution_count": null,
   "id": "9eff1be3-7c91-4530-81ac-4d8ba739e7fe",
   "metadata": {},
   "outputs": [],
   "source": []
  },
  {
   "cell_type": "code",
   "execution_count": null,
   "id": "0eb88afe-bb9a-4c6f-9545-cec7dca81c76",
   "metadata": {},
   "outputs": [],
   "source": []
  },
  {
   "cell_type": "code",
   "execution_count": null,
   "id": "d8ab49f4-0076-4294-9d8c-0c1fc1bfd556",
   "metadata": {},
   "outputs": [],
   "source": []
  },
  {
   "cell_type": "code",
   "execution_count": null,
   "id": "dae7f972-55b8-48c6-b90d-96e9a5cdbac8",
   "metadata": {},
   "outputs": [],
   "source": []
  },
  {
   "cell_type": "code",
   "execution_count": null,
   "id": "1a75d286-ddee-4c7c-be38-8d12b583f490",
   "metadata": {},
   "outputs": [],
   "source": []
  }
 ],
 "metadata": {
  "kernelspec": {
   "display_name": "Python 3",
   "language": "python",
   "name": "python3"
  },
  "language_info": {
   "codemirror_mode": {
    "name": "ipython",
    "version": 3
   },
   "file_extension": ".py",
   "mimetype": "text/x-python",
   "name": "python",
   "nbconvert_exporter": "python",
   "pygments_lexer": "ipython3",
   "version": "3.8.8"
  }
 },
 "nbformat": 4,
 "nbformat_minor": 5
}
