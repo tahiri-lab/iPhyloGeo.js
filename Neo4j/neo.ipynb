{
 "cells": [
  {
   "cell_type": "code",
   "execution_count": null,
   "id": "4eac7792-7994-47a0-9fc8-545ff40b7740",
   "metadata": {},
   "outputs": [],
   "source": [
    "pip install python-dotenv"
   ]
  },
  {
   "cell_type": "code",
   "execution_count": 6,
   "id": "e7c34f94-8594-476a-9589-7388ad55a1f8",
   "metadata": {},
   "outputs": [],
   "source": [
    "from neo4j import GraphDatabase\n",
    "from dotenv import load_dotenv\n",
    "import os"
   ]
  },
  {
   "cell_type": "markdown",
   "id": "fa7fa91f-51f4-4a73-ab2b-24f3cbc7aa77",
   "metadata": {},
   "source": [
    "## Getting Connected"
   ]
  },
  {
   "cell_type": "code",
   "execution_count": 7,
   "id": "e49549b7-770c-4084-8a72-919e71b15c28",
   "metadata": {},
   "outputs": [],
   "source": [
    "load_dotenv(\"my.env\")\n",
    "password= os.getenv(\"NEO_PASS\")"
   ]
  },
  {
   "cell_type": "code",
   "execution_count": 9,
   "id": "904eb25e-952a-49f9-b00c-343724340e0f",
   "metadata": {},
   "outputs": [
    {
     "data": {
      "text/plain": [
       "str"
      ]
     },
     "execution_count": 9,
     "metadata": {},
     "output_type": "execute_result"
    }
   ],
   "source": [
    "type(password)"
   ]
  },
  {
   "cell_type": "code",
   "execution_count": 10,
   "id": "9ef263bc-2a16-4ba1-b9d2-df4453885b55",
   "metadata": {},
   "outputs": [],
   "source": [
    "# Create a new Driver instance\n",
    "driver = GraphDatabase.driver(\"neo4j://localhost:7687\",\n",
    "    auth=(\"neo4j\", password))"
   ]
  },
  {
   "cell_type": "code",
   "execution_count": 11,
   "id": "d8963c8e-9991-4f5c-a845-c18c60913fbc",
   "metadata": {},
   "outputs": [],
   "source": [
    "# Verify the connection details\n",
    "driver.verify_connectivity()"
   ]
  },
  {
   "cell_type": "code",
   "execution_count": null,
   "id": "b152c1b3-0e2a-4298-a680-7f419135e4fb",
   "metadata": {},
   "outputs": [],
   "source": [
    "def init_driver(uri, username, password):\n",
    "    # Create an instance of the driver\n",
    "    current_app.driver = GraphDatabase.driver(uri, auth=(username, password))\n",
    "\n",
    "    # Verify Connectivity\n",
    "    current_app.driver.verify_connectivity()\n",
    "\n",
    "    return current_app.driver"
   ]
  },
  {
   "cell_type": "code",
   "execution_count": null,
   "id": "8090f4d6-cfc3-4589-8f17-ae42d6d60a68",
   "metadata": {},
   "outputs": [],
   "source": []
  },
  {
   "cell_type": "markdown",
   "id": "b88acb1a-35f3-46a2-8f54-ce38b67329d2",
   "metadata": {},
   "source": [
    "## Create Nodes"
   ]
  },
  {
   "cell_type": "code",
   "execution_count": null,
   "id": "6ec82792-a371-4cde-9d3d-d5f3fc7afc4d",
   "metadata": {},
   "outputs": [],
   "source": []
  },
  {
   "cell_type": "code",
   "execution_count": null,
   "id": "1350bb08-72fb-4908-b65d-01698fe9a56a",
   "metadata": {},
   "outputs": [],
   "source": []
  },
  {
   "cell_type": "code",
   "execution_count": null,
   "id": "577344c3-edc6-4563-8064-3d25fbfca89a",
   "metadata": {},
   "outputs": [],
   "source": []
  },
  {
   "cell_type": "code",
   "execution_count": null,
   "id": "2bec4520-7cfa-4484-b99e-aeb07f9da5fc",
   "metadata": {},
   "outputs": [],
   "source": []
  },
  {
   "cell_type": "markdown",
   "id": "120df36a-86e5-4eb2-ab34-6aa5b43d8157",
   "metadata": {},
   "source": [
    "## Create Relationships"
   ]
  },
  {
   "cell_type": "code",
   "execution_count": null,
   "id": "0f7578d3-7a57-43c4-b8f4-749e192a2b23",
   "metadata": {},
   "outputs": [],
   "source": []
  },
  {
   "cell_type": "code",
   "execution_count": null,
   "id": "c42b3602-859a-4bcb-a80f-b3abe888523a",
   "metadata": {},
   "outputs": [],
   "source": []
  },
  {
   "cell_type": "code",
   "execution_count": null,
   "id": "ebef9b31-884f-4a81-bcf6-3ecdb8e4d3c3",
   "metadata": {},
   "outputs": [],
   "source": []
  },
  {
   "cell_type": "code",
   "execution_count": null,
   "id": "e9ec7d5f-5948-498f-8325-45da0eba54ce",
   "metadata": {},
   "outputs": [],
   "source": []
  },
  {
   "cell_type": "markdown",
   "id": "194a1252-ca20-426d-ba1e-1f142986da0e",
   "metadata": {},
   "source": [
    "## Queries"
   ]
  },
  {
   "cell_type": "code",
   "execution_count": null,
   "id": "38ecdfa9-4220-4fdb-9796-6e6363e361b7",
   "metadata": {},
   "outputs": [],
   "source": []
  },
  {
   "cell_type": "code",
   "execution_count": null,
   "id": "ec1346a4-1c63-47dc-83b2-8db90d9c10a1",
   "metadata": {},
   "outputs": [],
   "source": []
  },
  {
   "cell_type": "code",
   "execution_count": null,
   "id": "72225e17-5c4e-440b-89e3-820d037c27a1",
   "metadata": {},
   "outputs": [],
   "source": []
  }
 ],
 "metadata": {
  "kernelspec": {
   "display_name": "Python 3",
   "language": "python",
   "name": "python3"
  },
  "language_info": {
   "codemirror_mode": {
    "name": "ipython",
    "version": 3
   },
   "file_extension": ".py",
   "mimetype": "text/x-python",
   "name": "python",
   "nbconvert_exporter": "python",
   "pygments_lexer": "ipython3",
   "version": "3.9.5"
  }
 },
 "nbformat": 4,
 "nbformat_minor": 5
}
